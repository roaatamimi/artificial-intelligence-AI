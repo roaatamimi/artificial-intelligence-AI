{
  "cells": [
    {
      "cell_type": "markdown",
      "metadata": {
        "id": "view-in-github",
        "colab_type": "text"
      },
      "source": [
        "<a href=\"https://colab.research.google.com/github/roaatamimi/artificial-intelligence-AI/blob/main/Deep_Q_Learning_for_Lunar_Landing_Partial_Code.ipynb\" target=\"_parent\"><img src=\"https://colab.research.google.com/assets/colab-badge.svg\" alt=\"Open In Colab\"/></a>"
      ]
    },
    {
      "cell_type": "markdown",
      "metadata": {
        "id": "LbZcI9ZXHl3a"
      },
      "source": [
        "# Deep Q-Learning for Lunar Landing"
      ]
    },
    {
      "cell_type": "markdown",
      "metadata": {
        "id": "E8yPRjteXgPb"
      },
      "source": [
        "## Part 0 - Installing the required packages and importing the libraries"
      ]
    },
    {
      "cell_type": "markdown",
      "metadata": {
        "id": "slEm5teGWjWU"
      },
      "source": [
        "### Installing Gymnasium"
      ]
    },
    {
      "cell_type": "code",
      "execution_count": null,
      "metadata": {
        "colab": {
          "base_uri": "https://localhost:8080/"
        },
        "id": "dbnq3XpoKa_7",
        "outputId": "01760d42-07a8-4cdb-a271-8bd4226f119c",
        "collapsed": true
      },
      "outputs": [
        {
          "name": "stdout",
          "output_type": "stream",
          "text": [
            "Collecting gymnasium\n",
            "  Downloading gymnasium-0.29.1-py3-none-any.whl (953 kB)\n",
            "\u001b[?25l     \u001b[90m━━━━━━━━━━━━━━━━━━━━━━━━━━━━━━━━━━━━━━━━\u001b[0m \u001b[32m0.0/953.9 kB\u001b[0m \u001b[31m?\u001b[0m eta \u001b[36m-:--:--\u001b[0m\r\u001b[2K     \u001b[91m━━━━━\u001b[0m\u001b[91m╸\u001b[0m\u001b[90m━━━━━━━━━━━━━━━━━━━━━━━━━━━━━━━━━━\u001b[0m \u001b[32m133.1/953.9 kB\u001b[0m \u001b[31m3.7 MB/s\u001b[0m eta \u001b[36m0:00:01\u001b[0m\r\u001b[2K     \u001b[91m━━━━━━━━━━━━━━━━━━━━━━━━━━━━━━━━━━━━━━━\u001b[0m\u001b[91m╸\u001b[0m \u001b[32m952.3/953.9 kB\u001b[0m \u001b[31m17.1 MB/s\u001b[0m eta \u001b[36m0:00:01\u001b[0m\r\u001b[2K     \u001b[90m━━━━━━━━━━━━━━━━━━━━━━━━━━━━━━━━━━━━━━━━\u001b[0m \u001b[32m953.9/953.9 kB\u001b[0m \u001b[31m12.9 MB/s\u001b[0m eta \u001b[36m0:00:00\u001b[0m\n",
            "\u001b[?25hRequirement already satisfied: numpy>=1.21.0 in /usr/local/lib/python3.10/dist-packages (from gymnasium) (1.25.2)\n",
            "Requirement already satisfied: cloudpickle>=1.2.0 in /usr/local/lib/python3.10/dist-packages (from gymnasium) (2.2.1)\n",
            "Requirement already satisfied: typing-extensions>=4.3.0 in /usr/local/lib/python3.10/dist-packages (from gymnasium) (4.11.0)\n",
            "Collecting farama-notifications>=0.0.1 (from gymnasium)\n",
            "  Downloading Farama_Notifications-0.0.4-py3-none-any.whl (2.5 kB)\n",
            "Installing collected packages: farama-notifications, gymnasium\n",
            "Successfully installed farama-notifications-0.0.4 gymnasium-0.29.1\n",
            "Requirement already satisfied: gymnasium[accept-rom-license,atari] in /usr/local/lib/python3.10/dist-packages (0.29.1)\n",
            "Requirement already satisfied: numpy>=1.21.0 in /usr/local/lib/python3.10/dist-packages (from gymnasium[accept-rom-license,atari]) (1.25.2)\n",
            "Requirement already satisfied: cloudpickle>=1.2.0 in /usr/local/lib/python3.10/dist-packages (from gymnasium[accept-rom-license,atari]) (2.2.1)\n",
            "Requirement already satisfied: typing-extensions>=4.3.0 in /usr/local/lib/python3.10/dist-packages (from gymnasium[accept-rom-license,atari]) (4.11.0)\n",
            "Requirement already satisfied: farama-notifications>=0.0.1 in /usr/local/lib/python3.10/dist-packages (from gymnasium[accept-rom-license,atari]) (0.0.4)\n",
            "Collecting shimmy[atari]<1.0,>=0.1.0 (from gymnasium[accept-rom-license,atari])\n",
            "  Downloading Shimmy-0.2.1-py3-none-any.whl (25 kB)\n",
            "Collecting autorom[accept-rom-license]~=0.4.2 (from gymnasium[accept-rom-license,atari])\n",
            "  Downloading AutoROM-0.4.2-py3-none-any.whl (16 kB)\n",
            "Requirement already satisfied: click in /usr/local/lib/python3.10/dist-packages (from autorom[accept-rom-license]~=0.4.2->gymnasium[accept-rom-license,atari]) (8.1.7)\n",
            "Requirement already satisfied: requests in /usr/local/lib/python3.10/dist-packages (from autorom[accept-rom-license]~=0.4.2->gymnasium[accept-rom-license,atari]) (2.31.0)\n",
            "Requirement already satisfied: tqdm in /usr/local/lib/python3.10/dist-packages (from autorom[accept-rom-license]~=0.4.2->gymnasium[accept-rom-license,atari]) (4.66.4)\n",
            "Collecting AutoROM.accept-rom-license (from autorom[accept-rom-license]~=0.4.2->gymnasium[accept-rom-license,atari])\n",
            "  Downloading AutoROM.accept-rom-license-0.6.1.tar.gz (434 kB)\n",
            "\u001b[2K     \u001b[90m━━━━━━━━━━━━━━━━━━━━━━━━━━━━━━━━━━━━━━━━\u001b[0m \u001b[32m434.7/434.7 kB\u001b[0m \u001b[31m12.5 MB/s\u001b[0m eta \u001b[36m0:00:00\u001b[0m\n",
            "\u001b[?25h  Installing build dependencies ... \u001b[?25l\u001b[?25hdone\n",
            "  Getting requirements to build wheel ... \u001b[?25l\u001b[?25hdone\n",
            "  Preparing metadata (pyproject.toml) ... \u001b[?25l\u001b[?25hdone\n",
            "Collecting ale-py~=0.8.1 (from shimmy[atari]<1.0,>=0.1.0->gymnasium[accept-rom-license,atari])\n",
            "  Downloading ale_py-0.8.1-cp310-cp310-manylinux_2_17_x86_64.manylinux2014_x86_64.whl (1.7 MB)\n",
            "\u001b[2K     \u001b[90m━━━━━━━━━━━━━━━━━━━━━━━━━━━━━━━━━━━━━━━━\u001b[0m \u001b[32m1.7/1.7 MB\u001b[0m \u001b[31m63.5 MB/s\u001b[0m eta \u001b[36m0:00:00\u001b[0m\n",
            "\u001b[?25hRequirement already satisfied: importlib-resources in /usr/local/lib/python3.10/dist-packages (from ale-py~=0.8.1->shimmy[atari]<1.0,>=0.1.0->gymnasium[accept-rom-license,atari]) (6.4.0)\n",
            "Requirement already satisfied: charset-normalizer<4,>=2 in /usr/local/lib/python3.10/dist-packages (from requests->autorom[accept-rom-license]~=0.4.2->gymnasium[accept-rom-license,atari]) (3.3.2)\n",
            "Requirement already satisfied: idna<4,>=2.5 in /usr/local/lib/python3.10/dist-packages (from requests->autorom[accept-rom-license]~=0.4.2->gymnasium[accept-rom-license,atari]) (3.7)\n",
            "Requirement already satisfied: urllib3<3,>=1.21.1 in /usr/local/lib/python3.10/dist-packages (from requests->autorom[accept-rom-license]~=0.4.2->gymnasium[accept-rom-license,atari]) (2.0.7)\n",
            "Requirement already satisfied: certifi>=2017.4.17 in /usr/local/lib/python3.10/dist-packages (from requests->autorom[accept-rom-license]~=0.4.2->gymnasium[accept-rom-license,atari]) (2024.2.2)\n",
            "Building wheels for collected packages: AutoROM.accept-rom-license\n",
            "  Building wheel for AutoROM.accept-rom-license (pyproject.toml) ... \u001b[?25l\u001b[?25hdone\n",
            "  Created wheel for AutoROM.accept-rom-license: filename=AutoROM.accept_rom_license-0.6.1-py3-none-any.whl size=446659 sha256=e35b0175a741fcdde9c0ac0f4f82b4770370e74bce7cee44b01fcf8551f9e9a6\n",
            "  Stored in directory: /root/.cache/pip/wheels/6b/1b/ef/a43ff1a2f1736d5711faa1ba4c1f61be1131b8899e6a057811\n",
            "Successfully built AutoROM.accept-rom-license\n",
            "Installing collected packages: ale-py, shimmy, AutoROM.accept-rom-license, autorom\n",
            "Successfully installed AutoROM.accept-rom-license-0.6.1 ale-py-0.8.1 autorom-0.4.2 shimmy-0.2.1\n",
            "Reading package lists... Done\n",
            "Building dependency tree... Done\n",
            "Reading state information... Done\n",
            "The following additional packages will be installed:\n",
            "  swig4.0\n",
            "Suggested packages:\n",
            "  swig-doc swig-examples swig4.0-examples swig4.0-doc\n",
            "The following NEW packages will be installed:\n",
            "  swig swig4.0\n",
            "0 upgraded, 2 newly installed, 0 to remove and 45 not upgraded.\n",
            "Need to get 1,116 kB of archives.\n",
            "After this operation, 5,542 kB of additional disk space will be used.\n",
            "Get:1 http://archive.ubuntu.com/ubuntu jammy/universe amd64 swig4.0 amd64 4.0.2-1ubuntu1 [1,110 kB]\n",
            "Get:2 http://archive.ubuntu.com/ubuntu jammy/universe amd64 swig all 4.0.2-1ubuntu1 [5,632 B]\n",
            "Fetched 1,116 kB in 0s (7,128 kB/s)\n",
            "Selecting previously unselected package swig4.0.\n",
            "(Reading database ... 121918 files and directories currently installed.)\n",
            "Preparing to unpack .../swig4.0_4.0.2-1ubuntu1_amd64.deb ...\n",
            "Unpacking swig4.0 (4.0.2-1ubuntu1) ...\n",
            "Selecting previously unselected package swig.\n",
            "Preparing to unpack .../swig_4.0.2-1ubuntu1_all.deb ...\n",
            "Unpacking swig (4.0.2-1ubuntu1) ...\n",
            "Setting up swig4.0 (4.0.2-1ubuntu1) ...\n",
            "Setting up swig (4.0.2-1ubuntu1) ...\n",
            "Processing triggers for man-db (2.10.2-1) ...\n",
            "Requirement already satisfied: gymnasium[box2d] in /usr/local/lib/python3.10/dist-packages (0.29.1)\n",
            "Requirement already satisfied: numpy>=1.21.0 in /usr/local/lib/python3.10/dist-packages (from gymnasium[box2d]) (1.25.2)\n",
            "Requirement already satisfied: cloudpickle>=1.2.0 in /usr/local/lib/python3.10/dist-packages (from gymnasium[box2d]) (2.2.1)\n",
            "Requirement already satisfied: typing-extensions>=4.3.0 in /usr/local/lib/python3.10/dist-packages (from gymnasium[box2d]) (4.11.0)\n",
            "Requirement already satisfied: farama-notifications>=0.0.1 in /usr/local/lib/python3.10/dist-packages (from gymnasium[box2d]) (0.0.4)\n",
            "Collecting box2d-py==2.3.5 (from gymnasium[box2d])\n",
            "  Downloading box2d-py-2.3.5.tar.gz (374 kB)\n",
            "\u001b[2K     \u001b[90m━━━━━━━━━━━━━━━━━━━━━━━━━━━━━━━━━━━━━━━━\u001b[0m \u001b[32m374.4/374.4 kB\u001b[0m \u001b[31m6.5 MB/s\u001b[0m eta \u001b[36m0:00:00\u001b[0m\n",
            "\u001b[?25h  Preparing metadata (setup.py) ... \u001b[?25l\u001b[?25hdone\n",
            "Requirement already satisfied: pygame>=2.1.3 in /usr/local/lib/python3.10/dist-packages (from gymnasium[box2d]) (2.5.2)\n",
            "Collecting swig==4.* (from gymnasium[box2d])\n",
            "  Downloading swig-4.2.1-py2.py3-none-manylinux_2_5_x86_64.manylinux1_x86_64.whl (1.9 MB)\n",
            "\u001b[2K     \u001b[90m━━━━━━━━━━━━━━━━━━━━━━━━━━━━━━━━━━━━━━━━\u001b[0m \u001b[32m1.9/1.9 MB\u001b[0m \u001b[31m51.3 MB/s\u001b[0m eta \u001b[36m0:00:00\u001b[0m\n",
            "\u001b[?25hBuilding wheels for collected packages: box2d-py\n",
            "  Building wheel for box2d-py (setup.py) ... \u001b[?25l\u001b[?25hdone\n",
            "  Created wheel for box2d-py: filename=box2d_py-2.3.5-cp310-cp310-linux_x86_64.whl size=2349117 sha256=a2baadbedea99cb7fc09c1a28d7c42831a4576428c311db08542c57e2b3aba25\n",
            "  Stored in directory: /root/.cache/pip/wheels/db/8f/6a/eaaadf056fba10a98d986f6dce954e6201ba3126926fc5ad9e\n",
            "Successfully built box2d-py\n",
            "Installing collected packages: swig, box2d-py\n",
            "Successfully installed box2d-py-2.3.5 swig-4.2.1\n"
          ]
        }
      ],
      "source": [
        "!pip install gymnasium\n",
        "!pip install \"gymnasium[atari, accept-rom-license]\"\n",
        "!apt-get install -y swig\n",
        "!pip install gymnasium[box2d]"
      ]
    },
    {
      "cell_type": "markdown",
      "metadata": {
        "id": "brqiMN3UW9T9"
      },
      "source": [
        "### Importing the libraries"
      ]
    },
    {
      "cell_type": "code",
      "execution_count": null,
      "metadata": {
        "id": "mZaKXP_aMl9O"
      },
      "outputs": [],
      "source": [
        "import os\n",
        "import random\n",
        "import numpy as np\n",
        "import torch\n",
        "import torch.nn as nn\n",
        "import torch.optim as optim\n",
        "import torch.nn.functional as F\n",
        "import torch.autograd as autograd\n",
        "from torch.autograd import Variable\n",
        "from collections import deque, namedtuple\n",
        "\n"
      ]
    },
    {
      "cell_type": "markdown",
      "metadata": {
        "id": "EzlDKXvkXzGI"
      },
      "source": [
        "## Part 1 - Building the AI"
      ]
    },
    {
      "cell_type": "markdown",
      "metadata": {
        "id": "UtG6Zc83YYy3"
      },
      "source": [
        "### Creating the architecture of the Neural Network"
      ]
    },
    {
      "cell_type": "code",
      "execution_count": null,
      "metadata": {
        "id": "pXVQwEq8fV0_"
      },
      "outputs": [],
      "source": [
        "class Network(nn.Module):\n",
        "\n",
        "  def __init__(self, state_size, action_size, seed = 42):\n",
        "    super(Network, self).__init__()\n",
        "    self.seed = torch.manual_seed(seed)\n",
        "    self.fc1 = nn.Linear(state_size, 64)\n",
        "    self.fc2 = nn.Linear(64, 64)\n",
        "    self.fc3 = nn.Linear(64, action_size)\n",
        "\n",
        "  def forward(self, state):\n",
        "    x = self.fc1(state)\n",
        "    x = F.relu(x)\n",
        "    x = self.fc2(x)\n",
        "    x = F.relu(x)\n",
        "    return self.fc3(x)\n",
        "\n",
        "\n"
      ]
    },
    {
      "cell_type": "markdown",
      "metadata": {
        "id": "UxVrBnFWZKb1"
      },
      "source": [
        "## Part 2 - Training the AI"
      ]
    },
    {
      "cell_type": "markdown",
      "metadata": {
        "id": "T364fz9qZb2j"
      },
      "source": [
        "### Setting up the environment"
      ]
    },
    {
      "cell_type": "code",
      "execution_count": null,
      "metadata": {
        "colab": {
          "base_uri": "https://localhost:8080/"
        },
        "id": "UoR17ezxns8q",
        "outputId": "59aa5f94-dc60-466e-9d4a-bc1fdb8c2e0c"
      },
      "outputs": [
        {
          "name": "stdout",
          "output_type": "stream",
          "text": [
            "State shape:  (8,)\n",
            "State size:  8\n",
            "Number of actions:  4\n"
          ]
        }
      ],
      "source": [
        "import gymnasium as gym\n",
        "env = gym.make('LunarLander-v2')\n",
        "state_shape = env.observation_space.shape\n",
        "state_size = env.observation_space.shape[0]\n",
        "number_actions = env.action_space.n\n",
        "print('State shape: ', state_shape)\n",
        "print('State size: ', state_size)\n",
        "print('Number of actions: ', number_actions)\n"
      ]
    },
    {
      "cell_type": "markdown",
      "metadata": {
        "id": "c_dZmOIvZgj-"
      },
      "source": [
        "### Initializing the hyperparameters"
      ]
    },
    {
      "cell_type": "code",
      "execution_count": null,
      "metadata": {
        "id": "Kie7MOJrMhZa"
      },
      "outputs": [],
      "source": [
        "learning_rate = 5e-4\n",
        "minibatch_size = 100\n",
        "discount_factor = 0.99\n",
        "replay_buffer_size = int(1e5)\n",
        "interpolation_parameter = 1e-3\n"
      ]
    },
    {
      "cell_type": "markdown",
      "metadata": {
        "id": "8hD_Vs-bYnip"
      },
      "source": [
        "### Implementing Experience Replay"
      ]
    },
    {
      "cell_type": "code",
      "execution_count": null,
      "metadata": {
        "colab": {
          "background_save": true
        },
        "id": "L3Scful8Rb58"
      },
      "outputs": [],
      "source": [
        "class ReplayMemory(object):\n",
        "\n",
        "  def __init__(self, capacity):\n",
        "    self.device = torch.device(\"cuda:0\" if torch.cuda.is_available() else \"cpu\")\n",
        "    self.capacity = capacity\n",
        "    self.memory = []\n",
        "\n",
        "  def push(self, event):\n",
        "    self.memory.append(event)\n",
        "    if len(self.memory) > self.capacity:\n",
        "      del self.memory[0]\n",
        "\n",
        "  def sample(self, batch_size):\n",
        "    experiences = random.sample(self.memory, k = batch_size)\n",
        "    states = torch.from_numpy(np.vstack([e[0] for e in experiences if e is not None])).float().to(self.device)\n",
        "    actions = torch.from_numpy(np.vstack([e[1] for e in experiences if e is not None])).long().to(self.device)\n",
        "    rewards = torch.from_numpy(np.vstack([e[2] for e in experiences if e is not None])).float().to(self.device)\n",
        "    next_states = torch.from_numpy(np.vstack([e[3] for e in experiences if e is not None])).float().to(self.device)\n",
        "    dones = torch.from_numpy(np.vstack([e[4] for e in experiences if e is not None]).astype(np.uint8)).float().to(self.device)\n",
        "    return states, next_states, actions, rewards, dones"
      ]
    },
    {
      "cell_type": "markdown",
      "metadata": {
        "id": "JmEkbFbUY6Jt"
      },
      "source": [
        "### Implementing the DQN class"
      ]
    },
    {
      "cell_type": "code",
      "execution_count": null,
      "metadata": {
        "id": "kjiVhVHeizIE"
      },
      "outputs": [],
      "source": [
        "class Agent():\n",
        "\n",
        "  def __init__(self, state_size, action_size):\n",
        "    self.device = torch.device(\"cuda:0\" if torch.cuda.is_available() else \"cpu\")\n",
        "    self.state_size = state_size\n",
        "    self.action_size = action_size\n",
        "    self.local_qnetwork = Network(state_size, action_size).to(self.device)\n",
        "    self.target_qnetwork = Network(state_size, action_size).to(self.device)\n",
        "    self.optimizer = optim.Adam(self.local_qnetwork.parameters(), lr = learning_rate)\n",
        "    self.memory = ReplayMemory(replay_buffer_size)\n",
        "    self.t_step = 0\n",
        "\n",
        "  def step(self, state, action, reward, next_state, done):\n",
        "    self.memory.push((state, action, reward, next_state, done))\n",
        "    self.t_step = (self.t_step + 1) % 4\n",
        "    if self.t_step == 0:\n",
        "      if len(self.memory.memory) > minibatch_size:\n",
        "        experiences = self.memory.sample(100)\n",
        "        self.learn(experiences, discount_factor)\n",
        "\n",
        "  def act(self, state, epsilon = 0.):\n",
        "    state = torch.from_numpy(state).float().unsqueeze(0).to(self.device)\n",
        "    self.local_qnetwork.eval()\n",
        "    with torch.no_grad():\n",
        "      action_values = self.local_qnetwork(state)\n",
        "    self.local_qnetwork.train()\n",
        "    if random.random() > epsilon:\n",
        "      return np.argmax(action_values.cpu().data.numpy())\n",
        "    else:\n",
        "      return random.choice(np.arange(self.action_size))\n",
        "\n",
        "  def learn(self, experiences, discount_factor):\n",
        "    states, next_states, actions, rewards, dones = experiences\n",
        "    next_q_targets = self.target_qnetwork(next_states).detach().max(1)[0].unsqueeze(1)\n",
        "    q_targets = rewards + discount_factor * next_q_targets * (1 - dones)\n",
        "    q_expected = self.local_qnetwork(states).gather(1, actions)\n",
        "    loss = F.mse_loss(q_expected, q_targets)\n",
        "    self.optimizer.zero_grad()\n",
        "    loss.backward()\n",
        "    self.optimizer.step()\n",
        "    self.soft_update(self.local_qnetwork, self.target_qnetwork, interpolation_parameter)\n",
        "\n",
        "  def soft_update(self, local_model, target_model, interpolation_parameter):\n",
        "    for target_param, local_param in zip(target_model.parameters(), local_model.parameters()):\n",
        "      target_param.data.copy_(interpolation_parameter * local_param.data + (1.0 - interpolation_parameter) * target_param.data)\n",
        "\n"
      ]
    },
    {
      "cell_type": "markdown",
      "metadata": {
        "id": "o1tZElccZmf6"
      },
      "source": [
        "### Initializing the DQN agent"
      ]
    },
    {
      "cell_type": "code",
      "execution_count": null,
      "metadata": {
        "id": "SDThst0bz4Bp"
      },
      "outputs": [],
      "source": [
        "agent = Agent(state_size, number_actions)"
      ]
    },
    {
      "cell_type": "markdown",
      "metadata": {
        "id": "E8v0PtUfaVQp"
      },
      "source": [
        "### Training the DQN agent"
      ]
    },
    {
      "cell_type": "code",
      "execution_count": null,
      "metadata": {
        "colab": {
          "base_uri": "https://localhost:8080/"
        },
        "id": "g011fMrR9s__",
        "outputId": "ee2aa85a-4dfb-428b-a8a4-3a86cc7a4d7c"
      },
      "outputs": [
        {
          "output_type": "stream",
          "name": "stdout",
          "text": [
            "Episode 100\tAverage Score: -148.87\n",
            "Episode 200\tAverage Score: -126.35\n",
            "Episode 300\tAverage Score: -48.91\n",
            "Episode 400\tAverage Score: -18.50\n",
            "Episode 500\tAverage Score: 4.88\n",
            "Episode 600\tAverage Score: 58.60\n",
            "Episode 700\tAverage Score: 176.92\n",
            "Episode 745\tAverage Score: 202.86\n",
            "Environment solved in 645 episodes!\tAverage Score: 202.86\n"
          ]
        }
      ],
      "source": [
        "number_episodes = 2000\n",
        "maximum_number_timesteps_per_episode = 1000\n",
        "epsilon_starting_value  = 1.0\n",
        "epsilon_ending_value  = 0.01\n",
        "epsilon_decay_value  = 0.995\n",
        "epsilon = epsilon_starting_value\n",
        "scores_on_100_episodes = deque(maxlen = 100)\n",
        "\n",
        "for episode in range(1, number_episodes + 1):\n",
        "  state, _ = env.reset()\n",
        "  score = 0\n",
        "  for t in range(maximum_number_timesteps_per_episode):\n",
        "    action = agent.act(state, epsilon)\n",
        "    next_state, reward, done, _, _ = env.step(action)\n",
        "    agent.step(state, action, reward, next_state, done)\n",
        "    state = next_state\n",
        "    score += reward\n",
        "    if done:\n",
        "      break\n",
        "  scores_on_100_episodes.append(score)\n",
        "  epsilon = max(epsilon_ending_value, epsilon_decay_value * epsilon)\n",
        "  print('\\rEpisode {}\\tAverage Score: {:.2f}'.format(episode, np.mean(scores_on_100_episodes)), end = \"\")\n",
        "  if episode % 100 == 0:\n",
        "    print('\\rEpisode {}\\tAverage Score: {:.2f}'.format(episode, np.mean(scores_on_100_episodes)))\n",
        "  if np.mean(scores_on_100_episodes) >= 200.0:\n",
        "    print('\\nEnvironment solved in {:d} episodes!\\tAverage Score: {:.2f}'.format(episode - 100, np.mean(scores_on_100_episodes)))\n",
        "    torch.save(agent.local_qnetwork.state_dict(), 'checkpoint.pth')\n",
        "    break"
      ]
    },
    {
      "cell_type": "markdown",
      "metadata": {
        "id": "O8CNwdOTcCoP"
      },
      "source": [
        "## Part 3 - Visualizing the results"
      ]
    },
    {
      "cell_type": "code",
      "execution_count": null,
      "metadata": {
        "id": "cb9nVvU2Okhk",
        "colab": {
          "base_uri": "https://localhost:8080/",
          "height": 494
        },
        "outputId": "3433d9db-fcfa-4be6-d04b-a08b9df1fb9f"
      },
      "outputs": [
        {
          "output_type": "stream",
          "name": "stderr",
          "text": [
            "WARNING:imageio_ffmpeg:IMAGEIO FFMPEG_WRITER WARNING: input image is not divisible by macro_block_size=16, resizing from (600, 400) to (608, 400) to ensure video compatibility with most codecs and players. To prevent resizing, make your input image divisible by the macro_block_size or set the macro_block_size to 1 (risking incompatibility).\n",
            "/usr/lib/python3.10/subprocess.py:1796: RuntimeWarning: os.fork() was called. os.fork() is incompatible with multithreaded code, and JAX is multithreaded, so this will likely lead to a deadlock.\n",
            "  self.pid = _posixsubprocess.fork_exec(\n"
          ]
        },
        {
          "output_type": "display_data",
          "data": {
            "text/plain": [
              "<IPython.core.display.HTML object>"
            ],
            "text/html": [
              "<video alt=\"test\" autoplay\n",
              "                loop controls style=\"height: 400px;\">\n",
              "                <source src=\"data:video/mp4;base64,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\" type=\"video/mp4\" />\n",
              "             </video>"
            ]
          },
          "metadata": {}
        }
      ],
      "source": [
        "import glob\n",
        "import io\n",
        "import base64\n",
        "import imageio\n",
        "from IPython.display import HTML, display\n",
        "from gym.wrappers.monitoring.video_recorder import VideoRecorder\n",
        "\n",
        "def show_video_of_model(agent, env_name):\n",
        "    env = gym.make(env_name, render_mode='rgb_array')\n",
        "    state, _ = env.reset()\n",
        "    done = False\n",
        "    frames = []\n",
        "    while not done:\n",
        "        frame = env.render()\n",
        "        frames.append(frame)\n",
        "        action = agent.act(state)\n",
        "        state, reward, done, _, _ = env.step(action.item())\n",
        "    env.close()\n",
        "    imageio.mimsave('video.mp4', frames, fps=30)\n",
        "\n",
        "show_video_of_model(agent, 'LunarLander-v2')\n",
        "\n",
        "def show_video():\n",
        "    mp4list = glob.glob('*.mp4')\n",
        "    if len(mp4list) > 0:\n",
        "        mp4 = mp4list[0]\n",
        "        video = io.open(mp4, 'r+b').read()\n",
        "        encoded = base64.b64encode(video)\n",
        "        display(HTML(data='''<video alt=\"test\" autoplay\n",
        "                loop controls style=\"height: 400px;\">\n",
        "                <source src=\"data:video/mp4;base64,{0}\" type=\"video/mp4\" />\n",
        "             </video>'''.format(encoded.decode('ascii'))))\n",
        "    else:\n",
        "        print(\"Could not find video\")\n",
        "\n",
        "show_video()"
      ]
    }
  ],
  "metadata": {
    "colab": {
      "provenance": [],
      "include_colab_link": true
    },
    "kernelspec": {
      "display_name": "Python 3",
      "name": "python3"
    },
    "language_info": {
      "name": "python"
    }
  },
  "nbformat": 4,
  "nbformat_minor": 0
}